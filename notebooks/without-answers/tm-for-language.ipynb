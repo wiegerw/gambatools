{
 "cells": [
  {
   "cell_type": "code",
   "execution_count": null,
   "metadata": {},
   "outputs": [],
   "source": [
    "from gambatools.notebook import *\n",
    "check_answer = lambda tm: check_tm_language_from_words(tm, '110#110 00#00 001#001 1#1 0#0 000#000 10#10 010#010 # 100#100 11#11 111#111 01#01 011#011 101#101', 8, 0)"
   ]
  },
  {
   "cell_type": "markdown",
   "metadata": {},
   "source": [
    "Use `□` or `_` to denote the blank symbol, but not both. A different symbol like `#` can be chosen by adding a line `blank #`."
   ]
  },
  {
   "cell_type": "markdown",
   "metadata": {},
   "source": [
    "Give a Turing Machine that generates the language $\\{ w\\#w \\mid w \\in \\{0,1\\}^\\ast \\}$."
   ]
  },
  {
   "cell_type": "code",
   "execution_count": null,
   "metadata": {},
   "outputs": [],
   "source": [
    "tm = '''\n",
    "\n",
    "'''"
   ]
  },
  {
   "cell_type": "code",
   "execution_count": null,
   "metadata": {},
   "outputs": [],
   "source": [
    "show(tm)"
   ]
  },
  {
   "cell_type": "code",
   "execution_count": null,
   "metadata": {},
   "outputs": [],
   "source": [
    "check_answer(tm)"
   ]
  },
  {
   "cell_type": "markdown",
   "metadata": {},
   "source": [
    "You can simulate the run of the tm above on an example string &lt;your_string&gt; by running the command \"simulate_tm(tm,'&lt;your_string&gt;')\" in the cell below."
   ]
  }
 ],
 "metadata": {
  "kernelspec": {
   "display_name": "Python 3",
   "language": "python",
   "name": "python3"
  },
  "language_info": {
   "codemirror_mode": {
    "name": "ipython",
    "version": 3
   },
   "file_extension": ".py",
   "mimetype": "text/x-python",
   "name": "python",
   "nbconvert_exporter": "python",
   "pygments_lexer": "ipython3",
   "version": "3.8.10"
  }
 },
 "nbformat": 4,
 "nbformat_minor": 2
}
