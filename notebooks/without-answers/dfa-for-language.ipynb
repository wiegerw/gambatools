{
 "cells": [
  {
   "cell_type": "code",
   "execution_count": null,
   "metadata": {},
   "outputs": [],
   "source": [
    "from gambatools.notebook import *\n",
    "check_answer = lambda dfa: check_dfa_language_from_words(dfa, '011 001111 0111101 00011 0000001 01011 0001001 001 0101 0000101 0010111 0011111 011011 0111111 0011001 0010001 0101001 0100101 010101 0110011 0001011 0001 01111 00001 001011 0000011 0011101 0101101 0100001 0100111 0101011 0110111 00101 000001 001101 0101111 0001111 00111 010111 000011 010011 011101 0011011 000101 01001 001001 0110001 0011 011001 000111 0111 0000111 01101 0111001 0110101 0111011 0010011 0010101 010001 0001101 01 0100011 011111', 7, 0)"
   ]
  },
  {
   "cell_type": "markdown",
   "metadata": {},
   "source": [
    "Give a DFA that generates the language $\\{ w \\in {0,1}^\\ast \\mid w \\text{ starts with } 0 \\text{ and ends with } 1 \\}$."
   ]
  },
  {
   "cell_type": "code",
   "execution_count": null,
   "metadata": {},
   "outputs": [],
   "source": [
    "dfa = '''\n",
    "\n",
    "'''"
   ]
  },
  {
   "cell_type": "code",
   "execution_count": null,
   "metadata": {},
   "outputs": [],
   "source": [
    "show(dfa)"
   ]
  },
  {
   "cell_type": "code",
   "execution_count": null,
   "metadata": {},
   "outputs": [],
   "source": [
    "check_answer(dfa)"
   ]
  },
  {
   "cell_type": "markdown",
   "metadata": {},
   "source": [
    "If the DFA above is not OK, inspect its execution for a selected word, e.g. $0101$."
   ]
  },
  {
   "cell_type": "code",
   "execution_count": null,
   "metadata": {},
   "outputs": [],
   "source": [
    "simulate_dfa(dfa,'0101')"
   ]
  }
 ],
 "metadata": {
  "kernelspec": {
   "display_name": "Python 3",
   "language": "python",
   "name": "python3"
  },
  "language_info": {
   "codemirror_mode": {
    "name": "ipython",
    "version": 3
   },
   "file_extension": ".py",
   "mimetype": "text/x-python",
   "name": "python",
   "nbconvert_exporter": "python",
   "pygments_lexer": "ipython3",
   "version": "3.8.5"
  }
 },
 "nbformat": 4,
 "nbformat_minor": 2
}
