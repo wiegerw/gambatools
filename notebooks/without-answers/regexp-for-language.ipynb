{
 "cells": [
  {
   "cell_type": "code",
   "execution_count": null,
   "metadata": {},
   "outputs": [],
   "source": [
    "from gambatools.notebook import *\n",
    "check_answer = lambda regexp: check_regexp_language_from_words(regexp, 'baa bbaaaaa bbabbb bbababba aaabaa aaabaab ababaaaa baabaab bbaabab aaabbaab baababab baaa baabbbaa bbababbb abababba bbaaba abaaabba baabbb bbabb abaabab baaabaaa ababbaab baaaba aaaabb baaababb aaabbbab aaaaa bbabbaab ababaab aaababa baaaaaba aaabbbb aaabaaba ababbaa aaabba baabaa baabaaab bbaaabb bbaaaabb bbaaabba abaaa abaabaa abaabbb aaaaaab baaaa aaababb abaababa aaaaaba baabaaa baaaaba bbaababb abababaa bbabbbab baabbbab aaaababb bbabaaba baabbbbb aaabab aaab aaababbb aaabbbbb aaabb bbabaaa aaaaabaa baaabbb ababaaab aaaababa bbaabba abaabba bbaab baababba bbaaab abaaaaa bbaabaab aaaabbba ababaabb abaaab baabbaba baabaaaa aaabaaaa bbaaa bbaa baaabbbb bbabbbb bbaababa bbaabaaa abaaaaba aaaaaaab aaaaaabb bbaaabab ababb abaaabb bbaabbb baaababa bbabbbba abaaabaa baabbaab aaabbb bbaaabbb ababbab bbaabbab aaaabaaa bba aaaabbaa baaaaabb aaabbabb aaaaabba abababab baaab aaa abababa baaabaab bbabaab aaababaa aaabbaba baaaaaab aaaabab aaaaabbb baaabab abaabb ababaa baaaabaa aaabbaaa ababaaba aaababab ababbabb baaabaa ababbaaa baaabbab aaaaabb baabbaaa aaaabba baaabbaa ababaaa ababbbb abaaaab aaaaaaaa aaaaabab aaaaba baaaabba aaaabaab aaaaaaba aaabbbba ababbbaa bbaaaba baabba aaaba abaaabab baaabba baababb abaaaa bbababaa abaaba baabbabb abaabbbb baab baabbaa baabaaba abaaaba ababba abaaaabb aaabbbaa aaabbab baabbba bbabba abaa bbabaaaa baabb bbaaabaa baabbbb baaabb aaabaaa abababb aaaab bbabaabb baaaabb baaaaa abaaaaab aaaabbab bbaabb bbabbabb bbabbba ababbbab bbababab ababab aaabaaab bbaabaa bbaaaaab baaaaaa bbaba baababbb aaababba bbababb bbaaaaaa bbabbaba baababa abaaaaaa bbaabbbb abaaabbb baaaab bbabbab ababbb abaabaaa bbab bbaaaa baabbab abaababb abab baabab ababbbbb abababbb baaba abaabbba bbabab aaabbaa aaabaabb baaaabbb baaaaab bbabaa abaabaab bbabbaa bbaabbaa ababbaba baabbbba aaaaaa aaaabbb baaaabab bbabbbbb baababaa bbaaaaba aaaabaa bbabaaab baabaabb aaabbba abaabbaa bbababa ababbba baaabbba abaabbab bbaabbba abaab aaaabbbb aaaaaaa bbaaaab ababbbba ababa aaaaab baaaaaaa bbabbaaa bbabbbaa aaaa aba', 8)"
   ]
  },
  {
   "cell_type": "markdown",
   "metadata": {},
   "source": [
    "(Sipser 1.18/1.6d) Give a regular expression over the alphabet $\\{a,b\\}$ that generates the language $\\{ \\, w \\in \\{a,b\\}^\\ast \\mid |w| \\geqslant 3 \\land w[2] = a \\, \\}$."
   ]
  },
  {
   "cell_type": "code",
   "execution_count": null,
   "metadata": {},
   "outputs": [],
   "source": [
    "regexp = '''\n",
    "\n",
    "'''"
   ]
  },
  {
   "cell_type": "code",
   "execution_count": null,
   "metadata": {},
   "outputs": [],
   "source": [
    "check_answer(regexp)"
   ]
  }
 ],
 "metadata": {
  "kernelspec": {
   "display_name": "Python 3",
   "language": "python",
   "name": "python3"
  },
  "language_info": {
   "codemirror_mode": {
    "name": "ipython",
    "version": 3
   },
   "file_extension": ".py",
   "mimetype": "text/x-python",
   "name": "python",
   "nbconvert_exporter": "python",
   "pygments_lexer": "ipython3",
   "version": "3.6.9"
  }
 },
 "nbformat": 4,
 "nbformat_minor": 2
}
