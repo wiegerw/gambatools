{
 "cells": [
  {
   "cell_type": "code",
   "execution_count": null,
   "metadata": {},
   "outputs": [],
   "source": [
    "from gambatools.notebook import *\n",
    "check_answer = lambda nfa: check_nfa_language_from_words(nfa, '\u03b5 1000001 0000001 100010 0001001 0010 0000000 001 1000 0000 1001000 0000010 001000 0010001 0100000 100001 0100100 010000 0001 0011000 00010 0100001 000001 010010 000 0100 000010 0000100 010100 000000 100100 0100010 10000 1000000 00100 00 0010100 0101000 0001000 1000100 0001100 100 001010 01000 100000 001100 0010010 1000010 0010000 010001 00000 000100 001001 0001010 010 00001', 7, 8)"
   ]
  },
  {
   "cell_type": "markdown",
   "metadata": {},
   "source": [
    "Use `ε` or `_` to denote the empty string, but not both. A different symbol like `e` can be chosen by adding a line `epsilon e`."
   ]
  },
  {
   "cell_type": "markdown",
   "metadata": {},
   "source": [
    "Give an NFA that accepts the language $\\{ w \\in \\{0,1\\}^* \\mid \\#_0(w) \\geq 2, \\#_1(w) \\leq 1 \\}^*$."
   ]
  },
  {
   "cell_type": "code",
   "execution_count": null,
   "metadata": {},
   "outputs": [],
   "source": [
    "nfa = '''\n",
    "\n",
    "'''"
   ]
  },
  {
   "cell_type": "code",
   "execution_count": null,
   "metadata": {},
   "outputs": [],
   "source": [
    "show(nfa)"
   ]
  },
  {
   "cell_type": "code",
   "execution_count": null,
   "metadata": {},
   "outputs": [],
   "source": [
    "check_answer(nfa)"
   ]
  }
 ],
 "metadata": {
  "kernelspec": {
   "display_name": "Python 3",
   "language": "python",
   "name": "python3"
  },
  "language_info": {
   "codemirror_mode": {
    "name": "ipython",
    "version": 3
   },
   "file_extension": ".py",
   "mimetype": "text/x-python",
   "name": "python",
   "nbconvert_exporter": "python",
   "pygments_lexer": "ipython3",
   "version": "3.6.9"
  }
 },
 "nbformat": 4,
 "nbformat_minor": 2
}
