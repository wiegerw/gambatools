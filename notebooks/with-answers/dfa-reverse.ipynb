{
 "cells": [
  {
   "cell_type": "code",
   "execution_count": null,
   "metadata": {},
   "outputs": [],
   "source": [
    "from gambatools.notebook_dfa import *\n",
    "check_answer = lambda dfa, nfa: check_dfa_reverse(dfa, nfa, 8)"
   ]
  },
  {
   "cell_type": "markdown",
   "metadata": {},
   "source": [
    "Consider the DFA below."
   ]
  },
  {
   "cell_type": "code",
   "execution_count": null,
   "metadata": {},
   "outputs": [],
   "source": [
    "dfa = '''\n",
    "input_symbols a b\nstates q0 q1 q2 q3 q4\ninitial q0\nfinal q0 q2 q3 q4\nq0 q1 a\nq0 q3 b\nq1 q2 b\nq1 q3 a\nq2 q2 a b\nq3 q3 b\nq3 q4 a\nq4 q3 a\nq4 q4 b\n",
    "'''"
   ]
  },
  {
   "cell_type": "code",
   "execution_count": null,
   "metadata": {},
   "outputs": [],
   "source": [
    "show(dfa)"
   ]
  },
  {
   "cell_type": "markdown",
   "metadata": {},
   "source": [
    "Give an NFA that accepts the reverse of the language accepted by this DFA. Hint: reverse the arrows."
   ]
  },
  {
   "cell_type": "code",
   "execution_count": null,
   "metadata": {},
   "outputs": [],
   "source": [
    "nfa = '''\n",
    "states q0 q1 q2 q3 q4 q5\nfinal q0\ninitial q5\ninput_symbols a b\nepsilon \u03b5\nq1 q0 a\nq2 q1 b\nq2 q2 b a\nq3 q0 b\nq3 q1 a\nq3 q3 b\nq3 q4 a\nq4 q3 a\nq4 q4 b\nq5 q0 \u03b5\nq5 q2 \u03b5\nq5 q3 \u03b5\nq5 q4 \u03b5\n\n",
    "'''"
   ]
  },
  {
   "cell_type": "code",
   "execution_count": null,
   "metadata": {},
   "outputs": [],
   "source": [
    "show(nfa)"
   ]
  },
  {
   "cell_type": "code",
   "execution_count": null,
   "metadata": {},
   "outputs": [],
   "source": [
    "check_answer(dfa, nfa)"
   ]
  }
 ],
 "metadata": {
  "kernelspec": {
   "display_name": "Python 3",
   "language": "python",
   "name": "python3"
  },
  "language_info": {
   "codemirror_mode": {
    "name": "ipython",
    "version": 3
   },
   "file_extension": ".py",
   "mimetype": "text/x-python",
   "name": "python",
   "nbconvert_exporter": "python",
   "pygments_lexer": "ipython3",
   "version": "3.6.9"
  }
 },
 "nbformat": 4,
 "nbformat_minor": 2
}
