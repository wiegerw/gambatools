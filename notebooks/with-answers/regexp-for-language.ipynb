{
 "cells": [
  {
   "cell_type": "code",
   "execution_count": null,
   "metadata": {},
   "outputs": [],
   "source": [
    "from gambatools.notebook import *\n",
    "check_answer = lambda regexp: check_regexp_language_from_words(regexp, 'abaaabab bbabbb baaaaabb baaaabbb ababaaba abaab baaaabab bbaaaba abaabaaa aaabab baaaabba bbabbaab bbaabaa baaaab bbabab ababbb abaabbb abaaabaa ababbbbb bbaaabab baaabbab bbababaa baabb bbaaaaa aaababab aaaabbb abaababa abaabab aaaaaabb ababbba aaabaaab bbaaabbb bbaabab aaabaaaa baabaaa bbaababa aaababa aaabaaa abaababb aaabaaba ababb bbababbb aaabbbb abaaabb aaaaaaaa aaaaabba baabbbb baabba baabaa aaabb aaaabbbb bbabbaa bbabaaab aaaaaaba ababbbba bbaaaabb ababaaab abaaabbb baabbbaa bbaabbba baaaaaba abaabbbb baaababa aaabbb aaaaabab bbaaaa aaabbaa bbaabbb abaabba baaaaaaa ababbaa bbaa bba bbabbbaa baaabb baabaaab baababba baaaaba abababb ababbaab baaaaaa aaaaaaab aaaaaa baaabbaa baaabbbb baabbabb baaaaab bbaaa ababbbab abababa abababba ababba baaaa baabbbab aaaabba baabbaa abaaaaaa baaaabaa aaabba abaabbab bbaabbbb abaaaa aaaabaa bbabaaa baabbbbb bbabaab bbababb abaaba baaba abababbb aaaaabaa ababaa bbabaabb abab ababaaa bbaabbaa aaabbbab aaabbaba aaababaa bbabba aaabbaaa abaaab abaaaab aaaabbab aaabbba baaababb bbabaaba bbaaaab aaaaab bbabbabb abaaa aaaabaab aaabaab aaabbbbb baababaa bbabaa aaabbaab baaabba bbaabb bbaaabaa bbabbaaa abaabbaa abaabbba baaaaaab aaaababb bbaaab ababaab abababab baaab aaaaaaa abaaaaba ababaaaa aaaaa aaaabaaa aaaa baa aaaab baabab baaabaab ababbab baabaabb aaaabbba baaaaa baababbb baabbaab baaabab aaaaabb bbabaaaa aaaaaab bbaabbab bbaaabba bbaaaaba aaa abababaa aaaabab bbaaba baababb baabbba aaabaa baaabaa bbabbab bbaabaaa baabbb aaababb baab baababab aaaaabbb baaaba ababab aaabbbba bbababa abaabb bbaaaaaa bbaaabb aaaababa bbabbbbb baabbaba bbab abaaaba bbababab baaabbba baaabaaa baabbbba baabaaba bbaba aaaabb bbabbbab abaabaa ababbbaa bbabbba abaaaaa aaaaaba baabaaaa baabaab baaaabb bbaababb ababbaba ababaabb abaaaaab bbababba aaabbab aaabbbaa ababbaaa bbaabaab abaa ababbabb ababbbb abaabaab baababa abaaaabb aba baabbaaa baaa bbabb aaaabbaa aaabaabb baabbab aaabbabb bbaab bbabbbb abaaabba aaababba bbabbaba baaabbb aaaaba bbaaaaab aaaba aaab bbabbbba bbaabba ababa aaababbb', 8)"
   ]
  },
  {
   "cell_type": "markdown",
   "metadata": {},
   "source": [
    "(Sipser 1.18/1.6d) Give a regular expression over the alphabet $\\{a,b\\}$ that generates the language $\\{ \\, w \\in \\{a,b\\}^\\ast \\mid |w| \\geqslant 3 \\land w[2] = a \\, \\}$."
   ]
  },
  {
   "cell_type": "code",
   "execution_count": null,
   "metadata": {},
   "outputs": [],
   "source": [
    "regexp = '''\n",
    "(a+b)(a+b)a(a+b)*\n",
    "'''"
   ]
  },
  {
   "cell_type": "code",
   "execution_count": null,
   "metadata": {},
   "outputs": [],
   "source": [
    "check_answer(regexp)"
   ]
  }
 ],
 "metadata": {
  "kernelspec": {
   "display_name": "Python 3",
   "language": "python",
   "name": "python3"
  },
  "language_info": {
   "codemirror_mode": {
    "name": "ipython",
    "version": 3
   },
   "file_extension": ".py",
   "mimetype": "text/x-python",
   "name": "python",
   "nbconvert_exporter": "python",
   "pygments_lexer": "ipython3",
   "version": "3.6.9"
  }
 },
 "nbformat": 4,
 "nbformat_minor": 2
}
