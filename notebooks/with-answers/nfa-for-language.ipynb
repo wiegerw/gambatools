{
 "cells": [
  {
   "cell_type": "code",
   "execution_count": null,
   "metadata": {},
   "outputs": [],
   "source": [
    "from gambatools.notebook import *\n",
    "check_answer = lambda nfa: check_nfa_language_from_words(nfa, '\u03b5 001010 100 000 0100010 0000001 010100 0000000 1000001 010000 100100 0011000 1000000 01000 1000010 000100 00 0010000 0001000 0100 0010 00000 100001 0100000 000010 010010 0001 000001 0101000 0100100 0010010 1001000 0001001 0100001 10000 0000100 0010001 100010 00100 001 001001 0010100 00010 010 00001 0000010 1000100 0000 001100 000000 0001100 1000 0001010 100000 001000 010001', 7, 8)"
   ]
  },
  {
   "cell_type": "markdown",
   "metadata": {},
   "source": [
    "Use `ε` or `_` to denote the empty string, but not both. A different symbol like `e` can be chosen by adding a line `epsilon e`."
   ]
  },
  {
   "cell_type": "markdown",
   "metadata": {},
   "source": [
    "Give an NFA that accepts the language $\\{ w \\in \\{0,1\\}^* \\mid \\#_0(w) \\geq 2, \\#_1(w) \\leq 1 \\}^*$."
   ]
  },
  {
   "cell_type": "code",
   "execution_count": null,
   "metadata": {},
   "outputs": [],
   "source": [
    "nfa = '''\n",
    "initial s6\nfinal s2 s5 s6\ns0 s1 0\ns0 s3 1\ns1 s2 0\ns1 s4 1\ns2 s0 \u03b5\ns2 s2 0\ns2 s5 1\ns3 s4 0\ns4 s5 0\ns5 s0 \u03b5\ns5 s5 0\ns6 s0 \u03b5\n",
    "'''"
   ]
  },
  {
   "cell_type": "code",
   "execution_count": null,
   "metadata": {},
   "outputs": [],
   "source": [
    "show(nfa)"
   ]
  },
  {
   "cell_type": "code",
   "execution_count": null,
   "metadata": {},
   "outputs": [],
   "source": [
    "check_answer(nfa)"
   ]
  }
 ],
 "metadata": {
  "kernelspec": {
   "display_name": "Python 3",
   "language": "python",
   "name": "python3"
  },
  "language_info": {
   "codemirror_mode": {
    "name": "ipython",
    "version": 3
   },
   "file_extension": ".py",
   "mimetype": "text/x-python",
   "name": "python",
   "nbconvert_exporter": "python",
   "pygments_lexer": "ipython3",
   "version": "3.6.9"
  }
 },
 "nbformat": 4,
 "nbformat_minor": 2
}
