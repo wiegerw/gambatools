{
 "cells": [
  {
   "cell_type": "code",
   "execution_count": null,
   "metadata": {},
   "outputs": [],
   "source": [
    "from gambatools.notebook import *\n",
    "check_answer = lambda cfg: check_cfg_accepts_rejects(cfg, '_ aaa bb c aabb bc aabc aabbbcc aaaccc', 'bcc aab aabbbc ccaaabb bbccaa abab cb aaacccc')"
   ]
  },
  {
   "cell_type": "markdown",
   "metadata": {},
   "source": [
    "Give a CFG that generates the language $\\lbrace \\, a^{\\mkern1mu n} \\mkern1mu b^{\\mkern1mu m} c^{\\mkern1mu \\ell} \\mid n = m \\lor m = \\ell \\lor n = \\ell \\, \\rbrace$."
   ]
  },
  {
   "cell_type": "code",
   "execution_count": null,
   "metadata": {},
   "outputs": [],
   "source": [
    "cfg = '''\n",
    "S -> XC | AY | Z\nX -> aXb | \u03b5\nY -> bYc | \u03b5\nZ -> aZc | B\nA -> aA | \u03b5\nB -> bB | \u03b5\nC -> cC | \u03b5\n",
    "'''"
   ]
  },
  {
   "cell_type": "code",
   "execution_count": null,
   "metadata": {
    "scrolled": true
   },
   "outputs": [],
   "source": [
    "check_answer(cfg)"
   ]
  }
 ],
 "metadata": {
  "kernelspec": {
   "display_name": "Python 3",
   "language": "python",
   "name": "python3"
  },
  "language_info": {
   "codemirror_mode": {
    "name": "ipython",
    "version": 3
   },
   "file_extension": ".py",
   "mimetype": "text/x-python",
   "name": "python",
   "nbconvert_exporter": "python",
   "pygments_lexer": "ipython3",
   "version": "3.8.2"
  }
 },
 "nbformat": 4,
 "nbformat_minor": 2
}
