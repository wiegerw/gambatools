{
 "cells": [
  {
   "cell_type": "code",
   "execution_count": null,
   "metadata": {},
   "outputs": [],
   "source": [
    "from gambatools.notebook_cfg import *"
   ]
  },
  {
   "cell_type": "markdown",
   "metadata": {},
   "source": [
    "Consider the following context free grammar $G = (V, \\Sigma, R, S)$ in Chomsky normal form. We use the convention that variables in $V$ are in uppercase and symbols in $\\Sigma$ are in lowercase. The start symbol is the left hand side of the first production."
   ]
  },
  {
   "cell_type": "code",
   "execution_count": null,
   "metadata": {},
   "outputs": [],
   "source": [
    "cfg = '''\n",
    "T -> AC | AS | SA | DB | a\nS -> AS | SA | DB | a | AC\nB -> b\nA -> AC | AS | SA | DB | a | b\nC -> SA\nD -> a\n",
    "'''"
   ]
  },
  {
   "cell_type": "markdown",
   "metadata": {
    "scrolled": true
   },
   "source": [
    "Apply the CYK algorithm to the word $aab$, in order to determine if this word is in the language of $G$.\n",
    "Draw the triangular table $X$, that is defined using\n",
    "$X_{ij} = \\{ A \\in V \\mid A \\Rightarrow^*_G w_i w_{i+1} \\ldots w_j \\}$, where $n = |w|$. Use the following layout:"
   ]
  },
  {
   "cell_type": "markdown",
   "metadata": {},
   "source": [
    "$X = \\begin{bmatrix} \n",
    "    X_{1n} & ~ & ~ \\\\\n",
    "    \\vdots & \\ddots & \\\\\n",
    "    X_{11} & \\dots & X_{nn} \n",
    "    \\end{bmatrix}$"
   ]
  },
  {
   "cell_type": "markdown",
   "metadata": {},
   "source": [
    "Hint: start the computation with the bottom row. Then continue by using the observation that if $B \\in X_{ij}$ and $C \\in X_{jk}$ and $A \\rightarrow BC$, then $A \\in X_{ik}$."
   ]
  },
  {
   "cell_type": "markdown",
   "metadata": {},
   "source": [
    "If $X_{ij}$ contains variables $A$, $B$ and $C$, then write the matrix element as `{A,B,C}`, without spaces."
   ]
  },
  {
   "cell_type": "code",
   "execution_count": null,
   "metadata": {},
   "outputs": [],
   "source": [
    "X = '''\n",
    "{A,C,S,T}\n{A,C,S,T}  {A,C,S,T}\n{A,D,S,T}  {A,D,S,T}  {A,B}    \n",
    "'''"
   ]
  },
  {
   "cell_type": "code",
   "execution_count": null,
   "metadata": {},
   "outputs": [],
   "source": [
    "check_cyk_matrix(cfg, 'aab', X)"
   ]
  }
 ],
 "metadata": {
  "kernelspec": {
   "display_name": "Python 3",
   "language": "python",
   "name": "python3"
  },
  "language_info": {
   "codemirror_mode": {
    "name": "ipython",
    "version": 3
   },
   "file_extension": ".py",
   "mimetype": "text/x-python",
   "name": "python",
   "nbconvert_exporter": "python",
   "pygments_lexer": "ipython3",
   "version": "3.8.2"
  }
 },
 "nbformat": 4,
 "nbformat_minor": 2
}
