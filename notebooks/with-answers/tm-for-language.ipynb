{
 "cells": [
  {
   "cell_type": "code",
   "execution_count": null,
   "metadata": {},
   "outputs": [],
   "source": [
    "from gambatools.notebook import *\n",
    "check_answer = lambda tm: check_tm_language_from_words(tm, '10#10 011#011 010#010 01#01 # 111#111 0#0 100#100 11#11 00#00 110#110 101#101 1#1 001#001 000#000', 8, 0)"
   ]
  },
  {
   "cell_type": "markdown",
   "metadata": {},
   "source": [
    "Use `□` or `_` to denote the blank symbol, but not both. A different symbol like `#` can be chosen by adding a line `blank #`."
   ]
  },
  {
   "cell_type": "markdown",
   "metadata": {},
   "source": [
    "Give a Turing Machine that generates the language $\\{ w\\#w \\mid w \\in \\{0,1\\}^\\ast \\}$."
   ]
  },
  {
   "cell_type": "code",
   "execution_count": null,
   "metadata": {},
   "outputs": [],
   "source": [
    "tm = '''\n",
    "initial q1\naccept q_accept\ninput_symbols 0 1 #\ntape_symbols 0 1 # x \u25a1\nq1 q2 0x,R\nq1 q3 1x,R\nq1 q8 ##,R\nq2 q2 00,R 11,R\nq2 q4 ##,R\nq3 q3 00,R 11,R\nq3 q5 ##,R\nq4 q4 xx,R\nq4 q6 0x,L\nq5 q5 xx,R\nq5 q6 1x,L\nq6 q6 00,L 11,L xx,L\nq6 q7 ##,L\nq7 q7 00,L 11,L\nq7 q1 xx,R\nq8 q8 xx,R\nq8 q_accept \u25a1\u25a1,R\n",
    "'''"
   ]
  },
  {
   "cell_type": "code",
   "execution_count": null,
   "metadata": {},
   "outputs": [],
   "source": [
    "show(tm)"
   ]
  },
  {
   "cell_type": "code",
   "execution_count": null,
   "metadata": {},
   "outputs": [],
   "source": [
    "check_answer(tm)"
   ]
  },
  {
   "cell_type": "markdown",
   "metadata": {},
   "source": [
    "You can simulate the run of the tm above on an example string &lt;your_string&gt; by running the command \"simulate_tm(tm,'&lt;your_string&gt;')\" in the cell below."
   ]
  }
 ],
 "metadata": {
  "kernelspec": {
   "display_name": "Python 3",
   "language": "python",
   "name": "python3"
  },
  "language_info": {
   "codemirror_mode": {
    "name": "ipython",
    "version": 3
   },
   "file_extension": ".py",
   "mimetype": "text/x-python",
   "name": "python",
   "nbconvert_exporter": "python",
   "pygments_lexer": "ipython3",
   "version": "3.8.10"
  }
 },
 "nbformat": 4,
 "nbformat_minor": 2
}
