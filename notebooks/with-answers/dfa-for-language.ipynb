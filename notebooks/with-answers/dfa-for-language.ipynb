{
 "cells": [
  {
   "cell_type": "code",
   "execution_count": null,
   "metadata": {},
   "outputs": [],
   "source": [
    "from gambatools.notebook import *\n",
    "check_answer = lambda dfa: check_dfa_language_from_words(dfa, '0000001 0101111 001101 0001011 0101001 0001111 00111 01001 0001101 010101 011 011101 00011 0111001 0011 011111 010111 01 0111 0011111 0101101 0111111 0010101 0000011 0110011 0100011 001011 000001 0001 01101 0110001 0111101 01011 0000111 0010011 0110101 0101 0100001 0001001 0100111 0110111 0011101 0010001 0011011 000101 001 001001 0111011 011011 0011001 00001 000011 011001 0101011 000111 0100101 010011 00101 0010111 001111 0000101 01111 010001', 7, 0)"
   ]
  },
  {
   "cell_type": "markdown",
   "metadata": {},
   "source": [
    "Give a DFA that generates the language $\\{ w \\in {0,1}^\\ast \\mid w \\text{ starts with } 0 \\text{ and ends with } 1 \\}$."
   ]
  },
  {
   "cell_type": "code",
   "execution_count": null,
   "metadata": {},
   "outputs": [],
   "source": [
    "dfa = '''\n",
    "input_symbols 0 1\nstates qA qB qC qD\ninitial qA\nfinal qC\nqA qB 0\nqA qD 1\nqB qB 0\nqB qC 1\nqC qB 0\nqC qC 1\nqD qD 0\nqD qD 1\n",
    "'''"
   ]
  },
  {
   "cell_type": "code",
   "execution_count": null,
   "metadata": {},
   "outputs": [],
   "source": [
    "show(dfa)"
   ]
  },
  {
   "cell_type": "code",
   "execution_count": null,
   "metadata": {},
   "outputs": [],
   "source": [
    "check_answer(dfa)"
   ]
  },
  {
   "cell_type": "markdown",
   "metadata": {},
   "source": [
    "If the DFA above is not OK, inspect its execution for a selected word, e.g. $0101$."
   ]
  },
  {
   "cell_type": "code",
   "execution_count": null,
   "metadata": {},
   "outputs": [],
   "source": [
    "simulate_dfa(dfa,'0101')"
   ]
  }
 ],
 "metadata": {
  "kernelspec": {
   "display_name": "Python 3",
   "language": "python",
   "name": "python3"
  },
  "language_info": {
   "codemirror_mode": {
    "name": "ipython",
    "version": 3
   },
   "file_extension": ".py",
   "mimetype": "text/x-python",
   "name": "python",
   "nbconvert_exporter": "python",
   "pygments_lexer": "ipython3",
   "version": "3.8.5"
  }
 },
 "nbformat": 4,
 "nbformat_minor": 2
}
