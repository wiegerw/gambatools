{
 "cells": [
  {
   "cell_type": "code",
   "execution_count": null,
   "metadata": {},
   "outputs": [],
   "source": [
    "from gambatools.notebook_chomsky import *\n",
    "check_answer = lambda cfg, cfg1, phase: cfg_check_chomsky(cfg, cfg1, phase, 'T', 5)"
   ]
  },
  {
   "cell_type": "markdown",
   "metadata": {},
   "source": [
    "Consider the context free grammar below. We will convert it into Chomsky normal form in a number of steps."
   ]
  },
  {
   "cell_type": "code",
   "execution_count": null,
   "metadata": {},
   "outputs": [],
   "source": [
    "cfg = '''\n",
    "S -> ASA | aB\nA -> B | S\nB -> b | \u03b5\n",
    "'''"
   ]
  },
  {
   "cell_type": "markdown",
   "metadata": {},
   "source": [
    "We use the convention that variables are in uppercase and symbols in lowercase. The start symbol is the left hand side of the first production. Use `ε` or `_` to denote the empty string, but not both. A different symbol like `e` can be chosen by adding a line `epsilon e`."
   ]
  },
  {
   "cell_type": "markdown",
   "metadata": {
    "scrolled": true
   },
   "source": [
    "In the first step, introduce a new start variable named `T`."
   ]
  },
  {
   "cell_type": "code",
   "execution_count": null,
   "metadata": {},
   "outputs": [],
   "source": [
    "cfg1 = '''\n",
    "T -> S\nS -> ASA | aB\nA -> B | S\nB -> b | \u03b5\n",
    "'''"
   ]
  },
  {
   "cell_type": "code",
   "execution_count": null,
   "metadata": {
    "scrolled": true
   },
   "outputs": [],
   "source": [
    "check_answer(cfg, cfg1, 1)"
   ]
  },
  {
   "cell_type": "markdown",
   "metadata": {},
   "source": [
    "In the second step, eliminate all epsilon productions, i.e. productions of the shape `A -> ε`."
   ]
  },
  {
   "cell_type": "code",
   "execution_count": null,
   "metadata": {},
   "outputs": [],
   "source": [
    "cfg2 = '''\n",
    "T -> S\nS -> ASA | AS | SA | S | aB | a\nA -> B | S\nB -> b\n",
    "'''"
   ]
  },
  {
   "cell_type": "code",
   "execution_count": null,
   "metadata": {},
   "outputs": [],
   "source": [
    "check_answer(cfg, cfg2, 2)"
   ]
  },
  {
   "cell_type": "markdown",
   "metadata": {},
   "source": [
    "In the third step, eliminate all unit productions, i.e. rules of he shape `A -> B`."
   ]
  },
  {
   "cell_type": "code",
   "execution_count": null,
   "metadata": {},
   "outputs": [],
   "source": [
    "cfg3 = '''\n",
    "T -> ASA | AS | SA | aB | a\nS -> AS | SA | aB | a | ASA\nB -> b\nA -> ASA | AS | SA | aB | a | b\n",
    "'''"
   ]
  },
  {
   "cell_type": "code",
   "execution_count": null,
   "metadata": {},
   "outputs": [],
   "source": [
    "check_answer(cfg, cfg3, 3)"
   ]
  },
  {
   "cell_type": "markdown",
   "metadata": {},
   "source": [
    "In the fourth step, eliminate productions with a right hand side of length greater than two."
   ]
  },
  {
   "cell_type": "code",
   "execution_count": null,
   "metadata": {},
   "outputs": [],
   "source": [
    "cfg4 = '''\n",
    "T -> AC | AS | SA | aB | a\nS -> AS | SA | aB | a | AC\nB -> b\nA -> AC | AS | SA | aB | a | b\nC -> SA\n",
    "'''"
   ]
  },
  {
   "cell_type": "code",
   "execution_count": null,
   "metadata": {},
   "outputs": [],
   "source": [
    "check_answer(cfg, cfg4, 4)"
   ]
  },
  {
   "cell_type": "markdown",
   "metadata": {},
   "source": [
    "In the fifth and last step, replace terminals by variables to make sure that each production is of the shape `A -> a` or `A -> BC`."
   ]
  },
  {
   "cell_type": "code",
   "execution_count": null,
   "metadata": {},
   "outputs": [],
   "source": [
    "cfg5 = '''\n",
    "T -> AC | AS | SA | DB | a\nS -> AS | SA | DB | a | AC\nB -> b\nA -> AC | AS | SA | DB | a | b\nC -> SA\nD -> a\n",
    "'''"
   ]
  },
  {
   "cell_type": "code",
   "execution_count": null,
   "metadata": {},
   "outputs": [],
   "source": [
    "check_answer(cfg, cfg5, 5)"
   ]
  }
 ],
 "metadata": {
  "kernelspec": {
   "display_name": "Python 3",
   "language": "python",
   "name": "python3"
  },
  "language_info": {
   "codemirror_mode": {
    "name": "ipython",
    "version": 3
   },
   "file_extension": ".py",
   "mimetype": "text/x-python",
   "name": "python",
   "nbconvert_exporter": "python",
   "pygments_lexer": "ipython3",
   "version": "3.8.10"
  }
 },
 "nbformat": 4,
 "nbformat_minor": 2
}
