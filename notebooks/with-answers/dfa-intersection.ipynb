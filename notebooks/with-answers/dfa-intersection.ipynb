{
 "cells": [
  {
   "cell_type": "code",
   "execution_count": null,
   "metadata": {},
   "outputs": [],
   "source": [
    "from gambatools.notebook_dfa import *"
   ]
  },
  {
   "cell_type": "markdown",
   "metadata": {},
   "source": [
    "Consider the two DFAs below."
   ]
  },
  {
   "cell_type": "code",
   "execution_count": null,
   "metadata": {},
   "outputs": [],
   "source": [
    "dfa1 = '''\n",
    "input_symbols a b\nstates q0 q1\ninitial q0\nfinal q0\nq0 q0 b\nq0 q1 a\nq1 q0 a\nq1 q1 b\n",
    "'''"
   ]
  },
  {
   "cell_type": "code",
   "execution_count": null,
   "metadata": {},
   "outputs": [],
   "source": [
    "dfa2 = '''\n",
    "input_symbols a b\nstates q0 q1 q2\ninitial q0\nfinal q2\nq0 q0 a\nq0 q1 b\nq1 q1 a\nq1 q2 b\nq2 q2 a b\n",
    "'''"
   ]
  },
  {
   "cell_type": "code",
   "execution_count": null,
   "metadata": {},
   "outputs": [],
   "source": [
    "show(dfa1)"
   ]
  },
  {
   "cell_type": "code",
   "execution_count": null,
   "metadata": {},
   "outputs": [],
   "source": [
    "show(dfa2)"
   ]
  },
  {
   "cell_type": "markdown",
   "metadata": {},
   "source": [
    "Give the product automaton that accepts the intersection of dfa1 and dfa2. Use the notation `(q0,s0)` for pairs of states."
   ]
  },
  {
   "cell_type": "code",
   "execution_count": null,
   "metadata": {},
   "outputs": [],
   "source": [
    "dfa = '''\n",
    "states (q0,q0) (q0,q1) (q0,q2) (q1,q0) (q1,q1) (q1,q2)\nfinal (q0,q2)\ninitial (q0,q0)\ninput_symbols a b\n(q0,q0) (q0,q1) b\n(q0,q0) (q1,q0) a\n(q0,q1) (q0,q2) b\n(q0,q1) (q1,q1) a\n(q0,q2) (q0,q2) b\n(q0,q2) (q1,q2) a\n(q1,q0) (q0,q0) a\n(q1,q0) (q1,q1) b\n(q1,q1) (q0,q1) a\n(q1,q1) (q1,q2) b\n(q1,q2) (q0,q2) a\n(q1,q2) (q1,q2) b\n",
    "'''"
   ]
  },
  {
   "cell_type": "code",
   "execution_count": null,
   "metadata": {},
   "outputs": [],
   "source": [
    "show_product(dfa)"
   ]
  },
  {
   "cell_type": "code",
   "execution_count": null,
   "metadata": {},
   "outputs": [],
   "source": [
    "check_dfa_intersection(dfa, dfa1, dfa2)"
   ]
  }
 ],
 "metadata": {
  "kernelspec": {
   "display_name": "Python 3",
   "language": "python",
   "name": "python3"
  },
  "language_info": {
   "codemirror_mode": {
    "name": "ipython",
    "version": 3
   },
   "file_extension": ".py",
   "mimetype": "text/x-python",
   "name": "python",
   "nbconvert_exporter": "python",
   "pygments_lexer": "ipython3",
   "version": "3.8.5"
  }
 },
 "nbformat": 4,
 "nbformat_minor": 2
}
