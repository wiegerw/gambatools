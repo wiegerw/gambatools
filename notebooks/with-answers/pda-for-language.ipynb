{
 "cells": [
  {
   "cell_type": "code",
   "execution_count": null,
   "metadata": {},
   "outputs": [],
   "source": [
    "from gambatools.notebook import *\n",
    "check_answer = lambda pda: check_pda_language_from_words(pda, '\u03b5 baaaab aba aabaab aabbaa aab aaaabb abaaab bbaaaa baa abbaaa baaaba abaaba ababaa aaabab babaaa aaabba aababa baabaa', 8, 0)"
   ]
  },
  {
   "cell_type": "markdown",
   "metadata": {},
   "source": [
    "Use `ε` or `_` to denote the empty string, but not both. A different symbol like `e` can be chosen by adding a line `epsilon e`."
   ]
  },
  {
   "cell_type": "markdown",
   "metadata": {},
   "source": [
    "Give a PDA that generates the language $\\{ w \\in \\{a,b\\}^\\ast \\mid \\#_a(w) = 2\\#_b(w) \\}$."
   ]
  },
  {
   "cell_type": "code",
   "execution_count": null,
   "metadata": {},
   "outputs": [],
   "source": [
    "pda = '''\n",
    "epsilon \u03b5\ninitial q0\nfinal q6\nq0 q1 \u03b5,\u03b5$\nq1 q2 \u03b5,$$\nq1 q3 \u03b5,$$\nq1 q6 \u03b5,$\u03b5\nq2 q1 \u03b5,$$\nq2 q2 a,n\u03b5\nq2 q5 b,\u03b5n\nq3 q1 \u03b5,$$\nq3 q3 a,\u03b5p\nq3 q4 b,p\u03b5\nq4 q3 \u03b5,p\u03b5\nq4 q5 \u03b5,$$\nq5 q2 \u03b5,\u03b5n\n",
    "'''"
   ]
  },
  {
   "cell_type": "code",
   "execution_count": null,
   "metadata": {},
   "outputs": [],
   "source": [
    "show(pda)"
   ]
  },
  {
   "cell_type": "code",
   "execution_count": null,
   "metadata": {},
   "outputs": [],
   "source": [
    "check_answer(pda)"
   ]
  }
 ],
 "metadata": {
  "kernelspec": {
   "display_name": "Python 3",
   "language": "python",
   "name": "python3"
  },
  "language_info": {
   "codemirror_mode": {
    "name": "ipython",
    "version": 3
   },
   "file_extension": ".py",
   "mimetype": "text/x-python",
   "name": "python",
   "nbconvert_exporter": "python",
   "pygments_lexer": "ipython3",
   "version": "3.6.9"
  }
 },
 "nbformat": 4,
 "nbformat_minor": 2
}
